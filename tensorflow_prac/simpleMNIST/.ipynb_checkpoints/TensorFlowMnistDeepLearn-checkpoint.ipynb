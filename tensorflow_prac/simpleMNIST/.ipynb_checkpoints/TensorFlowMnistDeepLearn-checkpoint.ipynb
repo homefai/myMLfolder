{
 "cells": [
  {
   "cell_type": "code",
   "execution_count": 1,
   "metadata": {
    "collapsed": false
   },
   "outputs": [
    {
     "name": "stderr",
     "output_type": "stream",
     "text": [
      "//anaconda/lib/python2.7/site-packages/matplotlib/font_manager.py:273: UserWarning: Matplotlib is building the font cache using fc-list. This may take a moment.\n",
      "  warnings.warn('Matplotlib is building the font cache using fc-list. This may take a moment.')\n"
     ]
    }
   ],
   "source": [
    "import tensorflow as tf\n",
    "import numpy as np\n",
    "import matplotlib\n",
    "import pandas as pd\n",
    "import mnistdata\n",
    "from mnistdata import MNISTData\n",
    "import matplotlib.pyplot as plt"
   ]
  },
  {
   "cell_type": "code",
   "execution_count": 4,
   "metadata": {
    "collapsed": false
   },
   "outputs": [
    {
     "name": "stdout",
     "output_type": "stream",
     "text": [
      "Extracting MNIST_data/train-images-idx3-ubyte.gz\n",
      "Extracting MNIST_data/train-labels-idx1-ubyte.gz\n",
      "Extracting MNIST_data/t10k-images-idx3-ubyte.gz\n",
      "Extracting MNIST_data/t10k-labels-idx1-ubyte.gz\n",
      "Value is :  3.0\n",
      "0000000000000000000000000000\n",
      "0000000000000000000000000000\n",
      "0000000000000000000000000000\n",
      "0000000000000000000000000000\n",
      "0000000000000000000000000000\n",
      "0000000000000000000000000000\n",
      "0000000011111111100000000000\n",
      "0000000111111111110000000000\n",
      "0000000111111111110000000000\n",
      "0000000111000111110000000000\n",
      "0000000000000111100000000000\n",
      "0000000000011111100000000000\n",
      "0000000000111111000000000000\n",
      "0000000000011111111000000000\n",
      "0000000000001111111100000000\n",
      "0000000000000011111100000000\n",
      "0000000000000000011110000000\n",
      "0000000000000000011110000000\n",
      "0000000000000000111100000000\n",
      "0000000000000001111100000000\n",
      "0000000000000111110000000000\n",
      "0000000000001111100000000000\n",
      "0000000001111111000000000000\n",
      "0000000011111100000000000000\n",
      "0000000011111000000000000000\n",
      "0000000011100000000000000000\n",
      "0000000000000000000000000000\n"
     ]
    }
   ],
   "source": [
    "mnist = MNISTData(50)\n",
    "mnist.batched_test.printImageAndValue(30)"
   ]
  },
  {
   "cell_type": "code",
   "execution_count": 5,
   "metadata": {
    "collapsed": false
   },
   "outputs": [],
   "source": [
    "# Model Setting\n",
    "# 1. x input type define\n",
    "# 2. y_ ouput type define\n",
    "# 3. define weight Variable\n",
    "# 4. define prediction y Variable\n",
    "# 5. define Linear equation\n",
    "# 6. define loss function\n",
    "# 7. Initialize all variable and placeholder\n",
    "# 8. define the optimzer\n",
    "# 9. define network\n",
    "\n",
    "x = tf.placeholder(tf.float32, shape=[None, 784])\n",
    "y_ = tf.placeholder(tf.float32, shape=[None, 10])\n",
    "\n",
    "W = tf.Variable(tf.zeros([784,10]))\n",
    "bias = tf.Variable(tf.zeros([10]))\n",
    "\n",
    "y = tf.add(tf.matmul(x, W), bias)\n",
    "cross_entropy = tf.reduce_mean(tf.nn.softmax_cross_entropy_with_logits(y, y_))\n",
    "optimizer = tf.train.GradientDescentOptimizer(0.5).minimize(cross_entropy)\n",
    "correct_prediction = tf.equal(tf.argmax(y,1), tf.argmax(y_,1))\n",
    "acc = tf.reduce_mean(tf.cast(correct_prediction, tf.float32))"
   ]
  },
  {
   "cell_type": "code",
   "execution_count": 6,
   "metadata": {
    "collapsed": false
   },
   "outputs": [],
   "source": [
    "sess =tf.Session()\n",
    "sess.run(tf.global_variables_initializer())\n",
    "timesofstep = 1000\n",
    "\n",
    "for i in range(timesofstep):\n",
    "    batch = mnist.train.next_batch(100)\n",
    "    sess.run(optimizer, feed_dict= {x:batch[0], y_:batch[1]})\n"
   ]
  },
  {
   "cell_type": "code",
   "execution_count": 11,
   "metadata": {
    "collapsed": false
   },
   "outputs": [
    {
     "name": "stdout",
     "output_type": "stream",
     "text": [
      "[ 0.  0.  0.  0.  0.  0.  0.  0.  0.  0.]\n"
     ]
    }
   ],
   "source": [
    "print sess.run(W[20])"
   ]
  },
  {
   "cell_type": "code",
   "execution_count": null,
   "metadata": {
    "collapsed": true
   },
   "outputs": [],
   "source": [
    "def weight_variable(shape):\n",
    "  initial = tf.truncated_normal(shape, stddev=0.1)\n",
    "  return tf.Variable(initial)\n",
    "\n",
    "def bias_variable(shape):\n",
    "  initial = tf.constant(0.1, shape=shape)\n",
    "  return tf.Variable(initial)\n",
    "\n",
    "def conv2d(x, W):\n",
    "  return tf.nn.conv2d(x, W, strides=[1, 1, 1, 1], padding='SAME')\n",
    "\n",
    "def max_pool_2x2(x):\n",
    "  return tf.nn.max_pool(x, ksize=[1, 2, 2, 1],\n",
    "                        strides=[1, 2, 2, 1], padding='SAME')\n",
    "\n",
    "\n"
   ]
  },
  {
   "cell_type": "code",
   "execution_count": null,
   "metadata": {
    "collapsed": true
   },
   "outputs": [],
   "source": []
  }
 ],
 "metadata": {
  "kernelspec": {
   "display_name": "Python 2",
   "language": "python",
   "name": "python2"
  },
  "language_info": {
   "codemirror_mode": {
    "name": "ipython",
    "version": 2
   },
   "file_extension": ".py",
   "mimetype": "text/x-python",
   "name": "python",
   "nbconvert_exporter": "python",
   "pygments_lexer": "ipython2",
   "version": "2.7.12"
  }
 },
 "nbformat": 4,
 "nbformat_minor": 0
}
